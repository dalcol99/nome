{
  "nbformat": 4,
  "nbformat_minor": 0,
  "metadata": {
    "colab": {
      "name": "Checkpoint 1 - CyberSec.ipynb",
      "provenance": [],
      "authorship_tag": "ABX9TyOYtFcF21q5iqVaFs4WrPbd",
      "include_colab_link": true
    },
    "kernelspec": {
      "name": "python3",
      "display_name": "Python 3"
    },
    "language_info": {
      "name": "python"
    }
  },
  "cells": [
    {
      "cell_type": "markdown",
      "metadata": {
        "id": "view-in-github",
        "colab_type": "text"
      },
      "source": [
        "<a href=\"https://colab.research.google.com/github/dalcol99/nome/blob/main/Checkpoint_1_CyberSec.ipynb\" target=\"_parent\"><img src=\"https://colab.research.google.com/assets/colab-badge.svg\" alt=\"Open In Colab\"/></a>"
      ]
    },
    {
      "cell_type": "code",
      "execution_count": 1,
      "metadata": {
        "colab": {
          "base_uri": "https://localhost:8080/"
        },
        "id": "wxGJWCVGUEKr",
        "outputId": "8cec2a05-c0e4-4d18-e627-f26bc209bde2"
      },
      "outputs": [
        {
          "output_type": "stream",
          "name": "stdout",
          "text": [
            "\u001b[?25l\r\u001b[K     |▍                               | 10 kB 21.3 MB/s eta 0:00:01\r\u001b[K     |▉                               | 20 kB 27.0 MB/s eta 0:00:01\r\u001b[K     |█▎                              | 30 kB 16.8 MB/s eta 0:00:01\r\u001b[K     |█▊                              | 40 kB 6.7 MB/s eta 0:00:01\r\u001b[K     |██▏                             | 51 kB 6.0 MB/s eta 0:00:01\r\u001b[K     |██▋                             | 61 kB 7.1 MB/s eta 0:00:01\r\u001b[K     |███                             | 71 kB 7.7 MB/s eta 0:00:01\r\u001b[K     |███▌                            | 81 kB 5.6 MB/s eta 0:00:01\r\u001b[K     |████                            | 92 kB 6.2 MB/s eta 0:00:01\r\u001b[K     |████▍                           | 102 kB 6.8 MB/s eta 0:00:01\r\u001b[K     |████▉                           | 112 kB 6.8 MB/s eta 0:00:01\r\u001b[K     |█████▎                          | 122 kB 6.8 MB/s eta 0:00:01\r\u001b[K     |█████▊                          | 133 kB 6.8 MB/s eta 0:00:01\r\u001b[K     |██████▏                         | 143 kB 6.8 MB/s eta 0:00:01\r\u001b[K     |██████▋                         | 153 kB 6.8 MB/s eta 0:00:01\r\u001b[K     |███████                         | 163 kB 6.8 MB/s eta 0:00:01\r\u001b[K     |███████▌                        | 174 kB 6.8 MB/s eta 0:00:01\r\u001b[K     |████████                        | 184 kB 6.8 MB/s eta 0:00:01\r\u001b[K     |████████▍                       | 194 kB 6.8 MB/s eta 0:00:01\r\u001b[K     |████████▉                       | 204 kB 6.8 MB/s eta 0:00:01\r\u001b[K     |█████████▎                      | 215 kB 6.8 MB/s eta 0:00:01\r\u001b[K     |█████████▊                      | 225 kB 6.8 MB/s eta 0:00:01\r\u001b[K     |██████████▏                     | 235 kB 6.8 MB/s eta 0:00:01\r\u001b[K     |██████████▌                     | 245 kB 6.8 MB/s eta 0:00:01\r\u001b[K     |███████████                     | 256 kB 6.8 MB/s eta 0:00:01\r\u001b[K     |███████████▍                    | 266 kB 6.8 MB/s eta 0:00:01\r\u001b[K     |███████████▉                    | 276 kB 6.8 MB/s eta 0:00:01\r\u001b[K     |████████████▎                   | 286 kB 6.8 MB/s eta 0:00:01\r\u001b[K     |████████████▊                   | 296 kB 6.8 MB/s eta 0:00:01\r\u001b[K     |█████████████▏                  | 307 kB 6.8 MB/s eta 0:00:01\r\u001b[K     |█████████████▋                  | 317 kB 6.8 MB/s eta 0:00:01\r\u001b[K     |██████████████                  | 327 kB 6.8 MB/s eta 0:00:01\r\u001b[K     |██████████████▌                 | 337 kB 6.8 MB/s eta 0:00:01\r\u001b[K     |███████████████                 | 348 kB 6.8 MB/s eta 0:00:01\r\u001b[K     |███████████████▍                | 358 kB 6.8 MB/s eta 0:00:01\r\u001b[K     |███████████████▉                | 368 kB 6.8 MB/s eta 0:00:01\r\u001b[K     |████████████████▎               | 378 kB 6.8 MB/s eta 0:00:01\r\u001b[K     |████████████████▊               | 389 kB 6.8 MB/s eta 0:00:01\r\u001b[K     |█████████████████▏              | 399 kB 6.8 MB/s eta 0:00:01\r\u001b[K     |█████████████████▋              | 409 kB 6.8 MB/s eta 0:00:01\r\u001b[K     |██████████████████              | 419 kB 6.8 MB/s eta 0:00:01\r\u001b[K     |██████████████████▌             | 430 kB 6.8 MB/s eta 0:00:01\r\u001b[K     |███████████████████             | 440 kB 6.8 MB/s eta 0:00:01\r\u001b[K     |███████████████████▍            | 450 kB 6.8 MB/s eta 0:00:01\r\u001b[K     |███████████████████▉            | 460 kB 6.8 MB/s eta 0:00:01\r\u001b[K     |████████████████████▎           | 471 kB 6.8 MB/s eta 0:00:01\r\u001b[K     |████████████████████▋           | 481 kB 6.8 MB/s eta 0:00:01\r\u001b[K     |█████████████████████           | 491 kB 6.8 MB/s eta 0:00:01\r\u001b[K     |█████████████████████▌          | 501 kB 6.8 MB/s eta 0:00:01\r\u001b[K     |██████████████████████          | 512 kB 6.8 MB/s eta 0:00:01\r\u001b[K     |██████████████████████▍         | 522 kB 6.8 MB/s eta 0:00:01\r\u001b[K     |██████████████████████▉         | 532 kB 6.8 MB/s eta 0:00:01\r\u001b[K     |███████████████████████▎        | 542 kB 6.8 MB/s eta 0:00:01\r\u001b[K     |███████████████████████▊        | 552 kB 6.8 MB/s eta 0:00:01\r\u001b[K     |████████████████████████▏       | 563 kB 6.8 MB/s eta 0:00:01\r\u001b[K     |████████████████████████▋       | 573 kB 6.8 MB/s eta 0:00:01\r\u001b[K     |█████████████████████████       | 583 kB 6.8 MB/s eta 0:00:01\r\u001b[K     |█████████████████████████▌      | 593 kB 6.8 MB/s eta 0:00:01\r\u001b[K     |██████████████████████████      | 604 kB 6.8 MB/s eta 0:00:01\r\u001b[K     |██████████████████████████▍     | 614 kB 6.8 MB/s eta 0:00:01\r\u001b[K     |██████████████████████████▉     | 624 kB 6.8 MB/s eta 0:00:01\r\u001b[K     |███████████████████████████▎    | 634 kB 6.8 MB/s eta 0:00:01\r\u001b[K     |███████████████████████████▊    | 645 kB 6.8 MB/s eta 0:00:01\r\u001b[K     |████████████████████████████▏   | 655 kB 6.8 MB/s eta 0:00:01\r\u001b[K     |████████████████████████████▋   | 665 kB 6.8 MB/s eta 0:00:01\r\u001b[K     |█████████████████████████████   | 675 kB 6.8 MB/s eta 0:00:01\r\u001b[K     |█████████████████████████████▌  | 686 kB 6.8 MB/s eta 0:00:01\r\u001b[K     |██████████████████████████████  | 696 kB 6.8 MB/s eta 0:00:01\r\u001b[K     |██████████████████████████████▍ | 706 kB 6.8 MB/s eta 0:00:01\r\u001b[K     |██████████████████████████████▊ | 716 kB 6.8 MB/s eta 0:00:01\r\u001b[K     |███████████████████████████████▏| 727 kB 6.8 MB/s eta 0:00:01\r\u001b[K     |███████████████████████████████▋| 737 kB 6.8 MB/s eta 0:00:01\r\u001b[K     |████████████████████████████████| 745 kB 6.8 MB/s \n",
            "\u001b[?25h  Building wheel for pyngrok (setup.py) ... \u001b[?25l\u001b[?25hdone\n",
            "\u001b[K     |████████████████████████████████| 10.1 MB 7.9 MB/s \n",
            "\u001b[K     |████████████████████████████████| 164 kB 9.1 MB/s \n",
            "\u001b[K     |████████████████████████████████| 111 kB 17.5 MB/s \n",
            "\u001b[K     |████████████████████████████████| 181 kB 50.5 MB/s \n",
            "\u001b[K     |████████████████████████████████| 76 kB 5.2 MB/s \n",
            "\u001b[K     |████████████████████████████████| 4.3 MB 46.1 MB/s \n",
            "\u001b[K     |████████████████████████████████| 63 kB 1.8 MB/s \n",
            "\u001b[K     |████████████████████████████████| 131 kB 52.0 MB/s \n",
            "\u001b[K     |████████████████████████████████| 428 kB 68.4 MB/s \n",
            "\u001b[K     |████████████████████████████████| 130 kB 59.9 MB/s \n",
            "\u001b[K     |████████████████████████████████| 793 kB 57.5 MB/s \n",
            "\u001b[K     |████████████████████████████████| 381 kB 47.7 MB/s \n",
            "\u001b[?25h  Building wheel for blinker (setup.py) ... \u001b[?25l\u001b[?25hdone\n",
            "  Building wheel for validators (setup.py) ... \u001b[?25l\u001b[?25hdone\n",
            "\u001b[31mERROR: pip's dependency resolver does not currently take into account all the packages that are installed. This behaviour is the source of the following dependency conflicts.\n",
            "jupyter-console 5.2.0 requires prompt-toolkit<2.0.0,>=1.0.0, but you have prompt-toolkit 3.0.29 which is incompatible.\n",
            "google-colab 1.0.0 requires ipykernel~=4.10, but you have ipykernel 6.13.0 which is incompatible.\n",
            "google-colab 1.0.0 requires ipython~=5.5.0, but you have ipython 7.33.0 which is incompatible.\n",
            "google-colab 1.0.0 requires tornado~=5.1.0; python_version >= \"3.0\", but you have tornado 6.1 which is incompatible.\u001b[0m\n",
            "\u001b[K     |████████████████████████████████| 3.6 MB 10.4 MB/s \n",
            "\u001b[K     |████████████████████████████████| 50 kB 3.8 MB/s \n",
            "\u001b[?25h  Building wheel for python-Levenshtein (setup.py) ... \u001b[?25l\u001b[?25hdone\n"
          ]
        }
      ],
      "source": [
        "!pip install -q pyngrok\n",
        "!pip install -q streamlit\n",
        "!pip install -q streamlit_ace\n",
        "!pip install -q python-Levenshtein\n",
        "!pip install -q fuzzywuzzy\n",
        "!streamlit run app.py &>/dev/null&\n",
        "from pyngrok import ngrok"
      ]
    },
    {
      "cell_type": "code",
      "source": [
        "%%writefile cybercheck.py\n",
        "\n",
        "import streamlit as st\n",
        "import re\n",
        "import requests\n",
        "import fuzzywuzzy\n",
        "from fuzzywuzzy import fuzz\n",
        "from fuzzywuzzy import process\n",
        "\n",
        "nompas = requests.get(\"https://cspinheiro.github.io/interpol.json\")\n",
        "dict_nom = nompas.json()['interpol']\n",
        "\n",
        "lisnom = []\n",
        "for idx, sub in enumerate(dict_nom, start = 0):\n",
        "    if idx == 0:\n",
        "        lisnom.append(list(sub.keys()))\n",
        "        lisnom.append(list(sub.values()))\n",
        "    else:\n",
        "        lisnom.append(list(sub.values()))\n",
        "lisnomx = [item for sublist in lisnom for item in sublist]\n",
        "lisnomx.remove('interpol')\n",
        "lisnomf = '(% s)' % ')|('.join(lisnomx)\n",
        " \n",
        "def main():  \n",
        "    html_temp = \"\"\" \n",
        "    <div style =\"background-color:blue;padding:15px\"> \n",
        "    <h1 style =\"color:white;text-align:center;\">Checagem de Imigração</h1> \n",
        "    </div> \n",
        "    \"\"\"\n",
        "\n",
        "    st.markdown(html_temp, unsafe_allow_html = True)\n",
        "      \n",
        "    idpass = st.text_input('Digite a identificação do Passaporte (iniciais do país + número do passaporte): ')\n",
        "    nompass = st.text_input('Digite o nome completo do indivíduo: ')\n",
        "    check = st.button('CHECAR')\n",
        "\n",
        "    def text_num_split(field):\n",
        "      for index, letter in enumerate(field, 0):\n",
        "          if letter.isdigit():\n",
        "              return [field[:index],field[index:]]\n",
        "\n",
        "    def checkfuzzy(field):\n",
        "      search_list = process.extract(field, lisnomx)\n",
        "      result = []\n",
        "      for text in search_list: \n",
        "          if text[1] >= 96:\n",
        "            result.append(text)\n",
        "      if len(result) == 0:\n",
        "          return st.success('Pode entrar no país') and st.balloons()\n",
        "      return st.error('Nome suspeito. Necessita documentação complementar.')\n",
        "\n",
        "    def checknom(field):\n",
        "      match = re.search(f'(?i){lisnomf}', field.lower())\n",
        "      if match:\n",
        "        st.error('Nome suspeito. Necessita documentação complementar.')\n",
        "      else:\n",
        "        checkfuzzy(field)\n",
        "\n",
        "    def checknum(field):\n",
        "      for item in dict_num:\n",
        "          for value in item.values():\n",
        "            if str(field) == str(value):\n",
        "              return st.error('Não pode entrar no país. Número consta na lista proibida.')\n",
        "      return checknom(nompass)\n",
        "  \n",
        "    if check:\n",
        "      listaid = text_num_split(idpass)\n",
        "      pais, numpass = listaid\n",
        "      checagem = re.search('(?i)((bra)|(fra)|(ago)|(ita)|(aus)|(ind)|(mng)|(can)|(grc)|(hun)|(arg)|(irl)|(npl)|(irq)|(bel)|(nic)|(prt)|(mdv)|(col)|(hnd)|(pry))', pais.lower())\n",
        "      if checagem:\n",
        "        if pais.lower() == \"bra\":\n",
        "          numpas = requests.get(\"https://cspinheiro.github.io/bra2.json\")\n",
        "          dict_num = numpas.json()['bra2']\n",
        "        elif pais.lower() == \"fra\":\n",
        "          numpas = requests.get(\"https://henricobela.github.io/fra.json\")\n",
        "          dict_num = numpas.json()['fra']\n",
        "        elif pais.lower() == \"ago\":\n",
        "          numpas = requests.get(\"https://the-icaro.github.io/ago.json\")\n",
        "          dict_num = numpas.json()['ago']\n",
        "        elif pais.lower() == \"ita\":\n",
        "          numpas = requests.get(\"https://isabellitankian.github.io/ita.json\")\n",
        "          dict_num = numpas.json()['ita']\n",
        "        elif pais.lower() == \"aus\":\n",
        "          numpas = requests.get(\"https://cesarnorena.github.io/aus.json\")\n",
        "          dict_num = numpas.json()['aus']\n",
        "        elif pais.lower() == \"ind\":\n",
        "          numpas = requests.get(\"https://eduardomatoss.github.io/ind.json\")\n",
        "          dict_num = numpas.json()['ind']\n",
        "        elif pais.lower() == \"mng\":\n",
        "          numpas = requests.get(\"https://emgabrielly.github.io/mng.json\")\n",
        "          dict_num = numpas.json()['mng']\n",
        "        elif pais.lower() == \"can\":\n",
        "          numpas = requests.get(\"https://educunhamxk.github.io/CAN.json\")\n",
        "          dict_num = numpas.json()['CAN']\n",
        "        elif pais.lower() == \"grc\":\n",
        "          numpas = requests.get(\"https://dalcol99.github.io/grc.json\")\n",
        "          dict_num = numpas.json()['grc']\n",
        "        elif pais.lower() == \"hun\":\n",
        "          numpas = requests.get(\"https://guhdalla.github.io/hun.json\")\n",
        "          dict_num = numpas.json()['hun']\n",
        "        elif pais.lower() == \"arg\":\n",
        "          numpas = requests.get(\"https://kndhvh.github.io/arg.json\")\n",
        "          dict_num = numpas.json()['arg']\n",
        "        elif pais.lower() == \"irl\":\n",
        "          numpas = requests.get(\"https://victorswory.github.io/irl.json\")\n",
        "          dict_num = numpas.json()['irl']\n",
        "        elif pais.lower() == \"npl\":\n",
        "          numpas = requests.get(\"https://rodrigofer89.github.io/npl.json\")\n",
        "          dict_num = numpas.json()['npl']\n",
        "        elif pais.lower() == \"irq\":\n",
        "          numpas = requests.get(\"https://felps2003.github.io/irq.json\")\n",
        "          dict_num = numpas.json()['irq']\n",
        "        elif pais.lower() == \"bel\":\n",
        "          numpas = requests.get(\"https://rafael-pereira-silva.github.io/bel.json\")\n",
        "          dict_num = numpas.json()['bel']\n",
        "        elif pais.lower() == \"nic\":\n",
        "          numpas = requests.get(\"https://rafael-pereira-silva.github.io/bel.json\") ### Endpoint está errado, é o mesmo da Bélgica\n",
        "          dict_num = numpas.json()['bel']\n",
        "        elif pais.lower() == \"prt\":\n",
        "          numpas = requests.get(\"https://0verthrive.github.io/prt.json\")\n",
        "          dict_num = numpas.json()['prt']\n",
        "        elif pais.lower() == \"mdv\":\n",
        "          numpas = requests.get(\"https://jluizgomes.github.io/mdv.json\")\n",
        "          dict_num = numpas.json()['mdv']\n",
        "        elif pais.lower() == \"col\":\n",
        "          numpas = requests.get(\"https://caiogoes.github.io/col.json\")\n",
        "          dict_num = numpas.json()['col']\n",
        "        elif pais.lower() == \"hnd\":\n",
        "          numpas = requests.get(\"https://ricardoaugu.github.io/excel-to-json.json\")\n",
        "          dict_num = numpas.json()['HND']\n",
        "        elif pais.lower() == \"pry\":\n",
        "          numpas = requests.get(\"https://danielthelink.github.io/pry.json\")\n",
        "          dict_num = numpas.json()['pry']\n",
        "        checknum(numpass)\n",
        "      else:\n",
        "        checknom(nompass)\n",
        "\n",
        "if __name__=='__main__': \n",
        "    main()  "
      ],
      "metadata": {
        "colab": {
          "base_uri": "https://localhost:8080/"
        },
        "id": "2r66GwWqUH2i",
        "outputId": "1666e7e0-3d77-4d3d-8e6c-b215577f0877"
      },
      "execution_count": 2,
      "outputs": [
        {
          "output_type": "stream",
          "name": "stdout",
          "text": [
            "Writing cybercheck.py\n"
          ]
        }
      ]
    },
    {
      "cell_type": "code",
      "source": [
        "!streamlit run cybercheck.py & npx localtunnel --port 8501"
      ],
      "metadata": {
        "colab": {
          "base_uri": "https://localhost:8080/"
        },
        "id": "xAl4NZL2UKF8",
        "outputId": "fbd3356d-b340-4beb-ed0b-c35adbc87a9b"
      },
      "execution_count": 3,
      "outputs": [
        {
          "output_type": "stream",
          "name": "stdout",
          "text": [
            "2022-05-04 21:02:39.146 INFO    numexpr.utils: NumExpr defaulting to 2 threads.\n",
            "\u001b[0m\n",
            "\u001b[34m\u001b[1m  You can now view your Streamlit app in your browser.\u001b[0m\n",
            "\u001b[0m\n",
            "\u001b[34m  Network URL: \u001b[0m\u001b[1mhttp://172.28.0.2:8501\u001b[0m\n",
            "\u001b[34m  External URL: \u001b[0m\u001b[1mhttp://35.233.185.190:8501\u001b[0m\n",
            "\u001b[0m\n",
            "\u001b[K\u001b[?25hnpx: installed 22 in 5.79s\n",
            "your url is: https://tame-facts-battle-35-233-185-190.loca.lt\n",
            "\u001b[34m  Stopping...\u001b[0m\n",
            "^C\n"
          ]
        }
      ]
    }
  ]
}